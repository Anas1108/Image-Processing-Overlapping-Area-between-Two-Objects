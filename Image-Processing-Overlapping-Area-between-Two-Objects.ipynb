{
 "cells": [
  {
   "cell_type": "code",
   "execution_count": 117,
   "id": "1d9e5151",
   "metadata": {},
   "outputs": [],
   "source": [
    "import cv2\n",
    "import matplotlib.pyplot as plt\n",
    "import numpy as np"
   ]
  },
  {
   "cell_type": "code",
   "execution_count": 118,
   "id": "05edeca3",
   "metadata": {},
   "outputs": [],
   "source": [
    "def showImage(image,title):\n",
    "    plt.title(title)\n",
    "    plt.axis('off')\n",
    "    plt.imshow(image)\n",
    "    plt.show()"
   ]
  },
  {
   "cell_type": "markdown",
   "id": "56e60a2e",
   "metadata": {},
   "source": [
    "# Description_Question-1"
   ]
  },
  {
   "cell_type": "markdown",
   "id": "a7445e6f",
   "metadata": {},
   "source": [
    "First we have to Read both images and store them as  image1 and image2.Then apply the AND operation between them to get only the overlap area and display it.As shown below,after applying AND operation the white portion in the resultant shows the overlap region. then we have to just count number of white pixels in the image that represents the area of overlap in the form pixels"
   ]
  },
  {
   "cell_type": "markdown",
   "id": "d95f8166",
   "metadata": {},
   "source": [
    "# Qustion-1"
   ]
  },
  {
   "cell_type": "code",
   "execution_count": 119,
   "id": "47acf225",
   "metadata": {},
   "outputs": [
    {
     "data": {
      "image/png": "[encoded data removed]",
      "text/plain": [
       "<Figure size 432x288 with 1 Axes>"
      ]
     },
     "metadata": {
      "needs_background": "light"
     },
     "output_type": "display_data"
    },
    {
     "data": {
      "image/png": "[encoded data removed]",
      "text/plain": [
       "<Figure size 432x288 with 1 Axes>"
      ]
     },
     "metadata": {
      "needs_background": "light"
     },
     "output_type": "display_data"
    },
    {
     "data": {
      "image/png": "[encoded data removed]",
      "text/plain": [
       "<Figure size 432x288 with 1 Axes>"
      ]
     },
     "metadata": {
      "needs_background": "light"
     },
     "output_type": "display_data"
    }
   ],
   "source": [
    "# read the image1\n",
    "image1_1 = cv2.imread(\"Q-1a.jpg\")\n",
    "# read the image2\n",
    "image1_2 = cv2.imread(\"Q-1b.jpg\")\n",
    "#display images\n",
    "showImage(image1_1,\" Image 1\")\n",
    "showImage(image1_2,\"Image 2\")\n",
    "# Take aand operation between both images two extract overlapping area between both the images\n",
    "img_bwa = cv2.bitwise_and(image1_1,image1_2)\n",
    "# display the overlap area\n",
    "showImage(img_bwa,\"Resultant Image\")"
   ]
  },
  {
   "cell_type": "code",
   "execution_count": 120,
   "id": "fcc5bba1",
   "metadata": {},
   "outputs": [
    {
     "name": "stdout",
     "output_type": "stream",
     "text": [
      "Number of Overlapping pixels are 3873\n"
     ]
    }
   ],
   "source": [
    "# iterate loop over the last image too find the number of white pixels, which are actually the  area of overlaping area\n",
    "cnt=0\n",
    "for i in img_bwa:\n",
    "    for j in i:\n",
    "        for k in j:\n",
    "            if k>250:\n",
    "                cnt=cnt+1\n",
    "print(\"Number of Overlapping pixels are \" + str(cnt))"
   ]
  }
 ],
 "metadata": {
  "kernelspec": {
   "display_name": "Python 3",
   "language": "python",
   "name": "python3"
  },
  "language_info": {
   "codemirror_mode": {
    "name": "ipython",
    "version": 3
   },
   "file_extension": ".py",
   "mimetype": "text/x-python",
   "name": "python",
   "nbconvert_exporter": "python",
   "pygments_lexer": "ipython3",
   "version": "3.8.8"
  }
 },
 "nbformat": 4,
 "nbformat_minor": 5
}
